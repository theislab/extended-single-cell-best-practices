{
 "cells": [
  {
   "cell_type": "markdown",
   "id": "ee18b075-f28e-4f2a-9d43-54fd837d7e9e",
   "metadata": {},
   "source": [
    "## On reproducible research in single-cell genomics"
   ]
  },
  {
   "cell_type": "markdown",
   "id": "d1a1e971-5526-4fe0-9462-c45ef3d3934d",
   "metadata": {},
   "source": [
    "#### Structure\n",
    "\n",
    "* [What and why](#bullet1)\n",
    "* [Main takeaways](#bullet2)\n",
    "* [Structuring a data science project and script templates](#bullet3)\n",
    "* [Reproducible results](#bullet4)\n",
    "* [Documentation](#bullet5)\n",
    "* [Upload/retrieve your data](#bullet6)"
   ]
  },
  {
   "cell_type": "markdown",
   "id": "b62c6053-a778-4414-9731-fb727b4fd9a3",
   "metadata": {},
   "source": [
    "### Environment setup"
   ]
  },
  {
   "cell_type": "code",
   "execution_count": null,
   "id": "f2e8588b-4ff4-4dbe-9589-ad09a02c4666",
   "metadata": {},
   "outputs": [],
   "source": [
    "# basic modules\n",
    "import os, re, time, importlib\n",
    "import sys, warnings\n",
    "warnings.simplefilter(action='ignore', category=FutureWarning)\n",
    "warnings.simplefilter(action='ignore', category=UserWarning)\n",
    "from IPython.display import clear_output"
   ]
  },
  {
   "cell_type": "code",
   "execution_count": null,
   "id": "acc551c0-500b-45fb-8b90-eb421236f904",
   "metadata": {},
   "outputs": [],
   "source": [
    "# in-house/developing modules\n",
    "# tools modules\n",
    "import scanpy as sc\n",
    "import matplotlib.pyplot as plt\n",
    "sc.logging.print_versions()"
   ]
  },
  {
   "cell_type": "code",
   "execution_count": null,
   "id": "e8c45c0b-b494-4fc7-95ac-9111bf1243d5",
   "metadata": {},
   "outputs": [],
   "source": [
    "# setting visualisation parameters\n",
    "sc.settings.set_figure_params(dpi=200, frameon=False)\n",
    "sc.set_figure_params(dpi=200)\n",
    "sc.set_figure_params(figsize=(10, 10))"
   ]
  },
  {
   "cell_type": "code",
   "execution_count": null,
   "id": "2e7e3ce3-23a2-4763-82b3-cdf91c7eec2c",
   "metadata": {},
   "outputs": [],
   "source": [
    "print(\"Working at:\\n\" + os.getcwd()); time.sleep(3); clear_output()\n",
    "print(\"Environment:\", re.sub('.*conda', 'conda', os.__file__));\n",
    "print(\"Working at:\", os.path.basename(os.getcwd()))"
   ]
  },
  {
   "cell_type": "markdown",
   "id": "af7db365-d93d-47a7-b22a-4a517f87215a",
   "metadata": {},
   "source": [
    "### What and why <a class=\"anchor\" id=\"bullet1\"></a>"
   ]
  },
  {
   "cell_type": "markdown",
   "id": "2e201ceb-82ec-434f-9d19-2c8bf7cd0647",
   "metadata": {},
   "source": [
    "A study is reproducible when the results can be replicated using the original data, code, and documentation{cite}`Alston_Rick_2021`. However, a study can be more or less reproducible falling into a gradient between no replication and full reproducibility{cite}`Peng_2011`. Therefore, our goal is to provide the necessary tools that should propel you on the spectrum towards full reproducibility.\n",
    "\n",
    "If your research is not reproducible, it can not be validated, mistrust grows around it, and it slows down the implementation and comparison of your methods. You end up with a reproducibility crisis and not only for other people’s work but also your own{cite}`Baker_2016_Ball_2018`. Currently, there are incentives to alleviate this crisis: data and code availability has become a minimum requirement for publication for journals, and research councils and agencies{cite}`Announcement_2016`. Furthermore, when results are questionable, reproducibility can make the job of finding the mistakes easier. And when findings are interesting, it is easier to build upon them.\n",
    "\n",
    "Everyone strives to make their projects reproducible. Consequently, there are many reproducible tools and advice out there{cite}`Alston_Rick_2021`. Here, we present to you the tools and practices the single-cell community uses."
   ]
  },
  {
   "cell_type": "markdown",
   "id": "29c73be4-d844-41e8-a21c-9b92766cb0df",
   "metadata": {},
   "source": [
    "### Main takeaways <a class=\"anchor\" id=\"bullet2\"></a>"
   ]
  },
  {
   "cell_type": "markdown",
   "id": "3722e256-449f-4844-bfb5-f33a02113320",
   "metadata": {},
   "source": []
  },
  {
   "cell_type": "markdown",
   "id": "61464509-cb72-43ec-b726-0aa2fd8a276a",
   "metadata": {},
   "source": [
    "### Structuring a data science project and script templates <a class=\"anchor\" id=\"bullet3\"></a>"
   ]
  },
  {
   "cell_type": "markdown",
   "id": "a6a68cc4-448a-4acc-91d8-9841abd688ad",
   "metadata": {},
   "source": []
  },
  {
   "cell_type": "markdown",
   "id": "425fc22e-c8da-4239-814d-cc79f386dcbe",
   "metadata": {},
   "source": [
    "### Reproducible results <a class=\"anchor\" id=\"bullet4\"></a>"
   ]
  },
  {
   "cell_type": "markdown",
   "id": "e91476dd-969d-4ccb-abde-1b0c6e142757",
   "metadata": {},
   "source": [
    "There are two main technical aspects for reproducible results: package’s versions and random seeds. Environment managers are tools that allow you to have control over the package versions you use. Currently, the single-cell community uses two programming languages: python and R{cite}`Zappia_Phipson_Oshlack_2018`. Each of them has their own set of environment managers. The most popular one in python is conda. As for R, renv was more recently developed.\n",
    "Random seeds effects are reflected when you rerun an analysis…\n",
    "There might be several algorithms you would need to set a seed for.\n",
    "When we come into the GPU world, through [PyTorch](https://pytorch.org/docs/stable/notes/randomness.html), other requirements for reproducibility appear: the platform and the processor."
   ]
  },
  {
   "cell_type": "markdown",
   "id": "e5373c4c-82e6-4aac-8fa1-2275901a5ff8",
   "metadata": {},
   "source": [
    "### Documentation <a class=\"anchor\" id=\"bullet5\"></a>"
   ]
  },
  {
   "cell_type": "markdown",
   "id": "f7a54f0e-62f4-4661-9eea-d518b03aec86",
   "metadata": {},
   "source": []
  },
  {
   "cell_type": "markdown",
   "id": "423873eb-428f-4e46-9dac-f7f89cef6618",
   "metadata": {},
   "source": [
    "### Upload/retrieve your data <a class=\"anchor\" id=\"bullet6\"></a>"
   ]
  },
  {
   "cell_type": "markdown",
   "id": "3c0507c6-e171-49d1-b2da-3e96f58e3455",
   "metadata": {},
   "source": [
    "Your data is incredibly valuable to the community. The odds of it being reachable drops significantly each year after publication{cite}`Vines_Albert_Andrew_Débarre_Bock_Franklin_Gilbert_Moore_Renaut_Rennison_2014`. So, documenting it and storing it in a permanent place is of the utmost importance. Some repositories for raw and processed data are GEO, EGA, and Zenodo. There are other repositories that allow the exploration of your single-cell data. Some examples are cellxgene, FASTGenomics, and UCSC Cell Browser.\n",
    "\n",
    "However uploading the data to a repository is not enough, your data needs to be findable, accessible, interoperable, and reusable{cite}`Wilkinson_Dumontier_Aalbersberg_Appleton_Axton_Baak_Blomberg_Boiten_da Silva Santos_Bourne_et al._2016`. These are known as FAIR Principles. Furthermore, your metadata is key for not only reproducing your results but to understand your data and re-adapt it to integrate with other’s. CEDAR provides a template for comprehensive FAIR metadata templates{cite}`Musen_Bean_Cheung_Dumontier_Durante_Gevaert_Gonzalez-Beltran_Khatri_Kleinstein_O’Connor_et al._2015`."
   ]
  }
 ],
 "metadata": {
  "kernelspec": {
   "display_name": "Python 3 (ipykernel)",
   "language": "python",
   "name": "python3"
  },
  "language_info": {
   "codemirror_mode": {
    "name": "ipython",
    "version": 3
   },
   "file_extension": ".py",
   "mimetype": "text/x-python",
   "name": "python",
   "nbconvert_exporter": "python",
   "pygments_lexer": "ipython3",
   "version": "3.7.13"
  }
 },
 "nbformat": 4,
 "nbformat_minor": 5
}
